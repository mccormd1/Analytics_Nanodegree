{
 "cells": [
  {
   "cell_type": "markdown",
   "metadata": {},
   "source": [
    "## INITIALIZED"
   ]
  },
  {
   "cell_type": "markdown",
   "metadata": {},
   "source": [
    "Write-up: PDF or Markdown file that includes links to your Tableau Public workbooks, published online, and a write-up with four sections. See HERE if you need help publishing your Tableau Public Workbook.\n",
    "\n",
    "- Summary: in no more than 4 sentences, briefly introduce your data visualization and add any context that can help readers understand it\n",
    "\n",
    "- Design: explain any design choices you made including changes to the visualization after collecting feedback\n",
    "\n",
    "- Feedback: include all feedback you received from others on your visualization from the first sketch to the final visualization\n",
    "\n",
    "- Resources: list any sources you consulted to create your visualization\n",
    "\n",
    "Data Files:\n",
    "the final data set used to create the visualization (usually .csv, .tsv, or .json file)\n",
    "a codebook or other files related to the data set (description, readme, license)"
   ]
  },
  {
   "cell_type": "code",
   "execution_count": null,
   "metadata": {},
   "outputs": [],
   "source": []
  }
 ],
 "metadata": {
  "kernelspec": {
   "display_name": "Python 3",
   "language": "python",
   "name": "python3"
  },
  "language_info": {
   "codemirror_mode": {
    "name": "ipython",
    "version": 3
   },
   "file_extension": ".py",
   "mimetype": "text/x-python",
   "name": "python",
   "nbconvert_exporter": "python",
   "pygments_lexer": "ipython3",
   "version": "3.6.4"
  }
 },
 "nbformat": 4,
 "nbformat_minor": 2
}
