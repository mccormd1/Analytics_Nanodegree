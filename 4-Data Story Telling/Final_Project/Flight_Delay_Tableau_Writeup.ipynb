{
 "cells": [
  {
   "cell_type": "markdown",
   "metadata": {},
   "source": [
    "## INITIALIZED"
   ]
  },
  {
   "cell_type": "markdown",
   "metadata": {},
   "source": [
    "Write-up: PDF or Markdown file that includes links to your Tableau Public workbooks, published online, and a write-up with four sections. See HERE if you need help publishing your Tableau Public Workbook.\n",
    "\n",
    "- Summary: in no more than 4 sentences, briefly introduce your data visualization and add any context that can help readers understand it\n",
    "\n",
    "- Design: explain any design choices you made including changes to the visualization after collecting feedback\n",
    "\n",
    "- Feedback: include all feedback you received from others on your visualization from the first sketch to the final visualization\n",
    "\n",
    "- Resources: list any sources you consulted to create your visualization\n",
    "\n",
    "Data Files:\n",
    "the final data set used to create the visualization (usually .csv, .tsv, or .json file)\n",
    "a codebook or other files related to the data set (description, readme, license)"
   ]
  },
  {
   "cell_type": "markdown",
   "metadata": {},
   "source": [
    "### Summary\n",
    "Using the RTS Flight data from 2005 to 2008, I created a data story to help narrow down a location, start airport, airline, and travel month for a short weekend vacation from my home in the Bay Area. Data was prefiltered in python (with `Download_and_filtering.ipynb`) to narrow the dataset down to three local airports (San Francisco, Oakland, and San Jose), six potential vacation airports (Los Angeles (LAX), Las Vegas, San Diego, Portland, Seattle and Denver), and for flights that leave the Bay Area on a Friday and return on a Monday. My story walks through a process in which I further narrow my choices for vacation parameters by selecting for reduced arrival delay times and mitigating cancellation risk. \n",
    "\n",
    "Flight were restricted to flights leaving the Bay Area on a Friday, as well as flights headed to the Bay Area on a Monday.\n",
    "\n",
    "My ideal vacation would be to a location where I have lots of options in flights, minimal delay to and from the location, and I heavily value having no possibility of flight cancellation (stress of last minute finding lodging and rescheduling would nearly eliminate the value of a short vacation).\n",
    "\n",
    "Delay data was rectified so that early arrivals were coded as an arrival delay of 0. In my case, arriving early has little effect on the enjoyment of a vacation, and an abundance of moderately early flights only serves to mask delays in the descriptive stats.\n",
    "\n",
    "\n"
   ]
  },
  {
   "cell_type": "markdown",
   "metadata": {},
   "source": [
    "### Design\n",
    "Most of the data is presented as scatter plots (technically strip plots) with overlaid box plots and a red line indicating mean. The two notable exceptions are for total number of flights and for total number of cancellations/delays, both of which are displayed as bar graphs. except for slide 3, where color encodes information about airlines, blue colored data indicates the chosen grouping in each visualization, and gray indicates data that will no longer be important as you progress through visualizations. On the final visualization, This holds true, except that the cancellation bar graph is colored red for emphasis.\n",
    "\n",
    "Explicitly, my initial design was:\n",
    "\n",
    "Slide 1:\n",
    "\n",
    "Goal: introduce reader to the dataset and the question hoping to be answered with the data.\n",
    "\n",
    "Introduction slide with a textbox describing the data source, data processing/filtering, and a motivation for the story\n",
    "\n",
    "Slide 2:\n",
    "\n",
    "Goal: Narrow the list of airlines to those with the most flights to destinations I want to go to.\n",
    "\n",
    "First visualization is of a barplot showing the total sum of flights flying between local Bay Area Airports and Destination airports, grouped by airline. I used this to narrow my airline choice be one of the top three airlines by sum of flights to my potential destinations, which appear as blue bars while the rest are gray. In this case, Southwest, United, and Alaska were chosen. \n",
    "\n",
    "Slide 3: \n",
    "\n",
    "Goal: Narrow the destination to places with the smallest mean and median arrival delay.\n",
    "\n",
    "I initially plotted flight arrival delay per home airport AND vacation airport, colored by airline. Although this is a dense and informative graph, it can be overwhelming. It has 36 strips with boxplots and a mean line, as well as three colors. Additionally, a gray constant line helps viewers discriminate the two lowest median values from the rest of the plots. From this graph I narrowed my choice to between Denver and Portland as they had the lowest mean and median delay time on leaving and returning flights respectively.\n",
    "\n",
    "After feedback, I simplified the plots to group all the home airports together, making the plot arrival delay vs vacation location, and removed coloring by airline. This reduces the number of boxplots to 12 (6 going, 6 returning home) and increases the comprehension while displaying the same information. Interestingly, a bug was masking the data that creates boxplots, and this change actually influenced the potential flight locations. In this case, The two lowest delay times were for Las Vegas and Denver, instead of Portland and Denver.\n",
    "\n",
    "Slide 4:\n",
    "\n",
    "Goal: Determine which destination to fly to based on arrival delay and flight cancellations.\n",
    "\n",
    "This slide focuses on Portland and Denver vs local airports (San Francisco, Oakland, and San Jose), and includes strip plots for arrival delay (with box plots and mean line) as well as bar plots for cancellations per airport. plots were colored blue for Portland flights, and gray for Denver flights Average delay was around 100 minutes for both Denver and Portland, so cancellations was the crucial decider. As Portland has a much lower cancelation rate than Denver, Portland is chosen as the vacation location.\n",
    "\n",
    "After feedback, I removed labels on cancellation bars, and kept the information in the tooltip. As on slide 3, I combined flight information for all local airports, reducing the number of boxplots and bars from 12 to 4. The data shows arrival delay and cancellation percent split by flight leaving the bay area and returing, as well as to the two destinations of Las Vegas and Denver. Vegas flights are shown to have lower risk of cancellation than Denver.\n",
    "\n",
    "Slide 5: \n",
    "\n",
    "Goal: Determine which local airport and airline to fly in/out of for the vacation\n",
    "\n",
    "Arrival delays and cancellations to and from Portland are now grouped by airline and local airport. Here we see that Southwest flights have no canceled flights to Portland, and less that 0.6% chance of cancellation for returning flights, therefore Southwest flights are highlighted in blue. Oakland vs San Jose shows pretty minimal differences, with about a ~6 min difference in arrival delay time for San Jose, and a ~0.04% decrease in cancellation chance for Oakland. \n",
    "\n",
    "Like slide 4, After feedback, I removed labels on cancellation bars, and kept the information in the tooltip. As on slide 3, The data shows arrival delay and cancellation percent split by flight leaving the bay area and returing, but now only for Las Vegas and split by local airport. Cascade of data changes determined that San Jose was the best airport to fly out of, and I modified the emphasis coloring to focus only San Jose flights, hopefully increasing comprehension.\n",
    "\n",
    "Slide 6:\n",
    "\n",
    "Goal: Determine the best times of year to fly Southwest to destination, based on arrival delay and cancellations.\n",
    "\n",
    "Arrival delay and cancellations+diverted flights between Oakland and Portland show that the cancellations only occur in December, and the lowest median and average flight times are April, September, and October.\n",
    "\n",
    "After feedback, Simply the location has changed, to Las Vegas. This further narrows the potential vacation times to just in September, when there are very low arrival delays, and the only month with no cancellations.\n",
    "\n"
   ]
  },
  {
   "cell_type": "markdown",
   "metadata": {},
   "source": [
    "### Feedback\n",
    "Posting on #general channel in the Udacity Data Science Slack, I received the following feedback on my initial design:\n",
    "Slide 1:\n",
    "- First interesting thing for me was the responsiveness capabilities of the program. I have a reasonably large monitor (24\") and when I view the slide in full screen, it doesn't wrap properly.\n",
    "- I have no idea whether this is possible, but if you are using your first slide as your 'title page', personally I'd make it more visually interesting. Chances are less ppl will read the full wall of text and if there were color or pics, I think it could help engage the attention.\n",
    "- The first sentence is excellent because it quickly explains what's happening. \n",
    "- I think it's really easy for ppl to get lost in the weeds for the second sentence. I'd link to your code (and provide a clickable link if you can), but maybe just bullet points to help ppl see the data selected. \n",
    "- Perhaps make the last sentence more 'friendly', something along the lines of I wanted to make my selections based on flights that had the least chance of arriving late or getting cancelled. And maybe explain why - so you had the least chance of your holiday getting ruined? losing time?\n",
    "- I think generally, that unless I know my audience WANTS a really technical presentation, I try to keep my language as 'regular speak' as possible, because ppl have to think less to process it :slightly_smiling_face:\n",
    "\n",
    "\n",
    "Feedback for slide 2:\n",
    "- I like your title for this presentation as well. It is very clear what is being asked and what I am trying to understand. Same for the slide titles they give a quick snapshot of what you gained from the data to help with your decision making process. Though, perhaps, you could adjust the headings to ask the question, in keeping with what you did for the presentation title, so for slide 2, perhaps the title is \"Which airlines have the most flights to my chosen destinations?\" And then maybe in brackets the answer (Southwest, United, Alaska)\n",
    "- Though honestly, for this slide, you don't even need to give them the answer, your selected shading and the presentation of the graph makes it abundantly clear.\n",
    "\n",
    "Feedback for slide 3:\n",
    "- Ok, it was this slide that made me ask 'who is your audience?' Because this is a very visually busy slide. What I can say is that while I can tell this is a box and whisker plot, I can also say that even as a DAND student, I have limited experience reading this kinds of charts (perhaps someone with an economics background has more familiarity). Someone once told me, when it came to my charts, \"Use pie charts, ppl understand pie, ppl like pie!\" Now, there are many situations where pie charts are not the best, but the point made I think still applies, when I'm thinking of what charts to present, I like to think, what is the least complicated chart I can present to clearly communicate what I am trying to say. I'm actually not sure if this is or not, but if you had a simpler way, I'd consider it. Perhaps a better way to put it is, I don't need you to tell me the answer to the question for slide 1, but I do probably need you to tell me for slide 2. Is there a way that you could present the information for slide 2 so that I don't need you to tell me?\n",
    "- I'd also add some additional labeling to these charts if you are going to use them, even though the x-axes are labelled with airport names, I think a bigger title of 'My local airports' or something like that, would be helpful, because I had to go back to the first slide to work out where they came from (I am not American, so the names of these airports are less familiar to me)\n",
    "- When it comes to the red/grey lines and other markings on the box and whisker plots, I'd present a legend for the shading; as your viewer, I'd prefer to be told how to interpret it rather than try and work it out. \n",
    "- And I guess, this data looks very fiddly to me, I do get what you are doing, and it's a good consideration (each airport, each airline and each destination city), but for me to know if I agree with you, I have to carefully check every single plot and compare the numbers. I'm not sure if there's an easy way to present this (could you collapse the airport data?) but if you can think of things, I'd do it. Again for me, with this kind of presentation, I think my goal for the slide is, how easily can I agree with the conclusion you have made, or answer the question you are asking.\n",
    "\n",
    "Feedback for slide 4:\n",
    "- Ok, here, I think the box and whisker plots may actually be useful, because there there are less of them and so it is easier to make the visual comparison.\n",
    "- hmm, also, you're trying to get me to balance the considerations of delay and cancellation at the same time, but, your conclusion is just about cancellations. Why did you do that? because the variation in delays is not substantial, but there's a reasonable amount of variation in the cancelled data? that being said, scale here is a critical factor, even though you've used a scale that shows clear differences in cancellations, how much does it really impact me if the chance of a flight being cancelled differs by 1%. In contrast, even though the delay pics look to have smaller variations, when you look at the scale, there are hour+ long differences. I think I'd care more about that than 1% chance of cancellation. \n",
    "- Also, you will notice that the bar charts on the right end up higher than the bar charts on the left, which messes up the comparison of your box and whisker plots in comparison to the scale.\n",
    "- And I'd consider the legend for interpreting the charts and more axis labeling as well. (edited)\n",
    "\n",
    "Feedback for slide 5:\n",
    "- Ok, because you present me with the same shading for each of these graphs, I want to think that the information being examined is the same, but it's not. I had to click back and forth to get what was different.\n",
    "- Oooooh, I think I finally get something for the third slide, I think the ones that are blue are the ones you want me to see. But on the previous slide it just alternates, so I didn't know that I was supposed to interpret meaning from the color, I just thought it was to help me differentiate between the different sets. Sometimes I use variations of green and red instead, kind of banking on the idea that ppl typically associated green with good/go and red with bad/stop. \n",
    "- Again, I'm intrigued by the use of cancellation as the determining factor. Obviously with your scale the differences are easy to identify, but there's some decent variation in delay, how do I factor that in?\n",
    "- Also, same issue with the height of the right bar chart and how it impacts the comparison for the box and whisker plots.\n",
    "\n",
    "Feedback for slide 6:\n",
    "- Oh, this also applies to the previous two slides, but I have been taught, that if you have to put numbers on your chart when you're showing a bar, you're doing it wrong. Basically, you're presenting the same information twice, which is inefficient and potentially causes your viewers brain to really focus on the numbers, when the visual is often sufficient. In this case I think it's particularly redundant because I can actually hover over the bars and get the information. \n",
    "- With the titles for the graphs that you've used for the slides, I'd keep reminding me of what we selected. Like, I look at this and realized we've selected an airport and an airline, but I look and go, which airline were we talking about again? So I would just keep a reminder of the previous slide's selection in the chart, e.g. Average and.... per Month flying Southwest through Oakland. This might also apply to previous slides. \n",
    "- For me, the combination of delay and cancellation data is most easily handled on this slide because there are limited comparisons for me to make. \n",
    "- Again a legend is good for the box and whisker plot markings. Let me be lazy in interpreting your chart!\n",
    "Ok, so overall, this absolutely tells a story and has a sequential decision making process associated with it.\n",
    "\n",
    "So I think you have done a very good job of conceptualizing the type of story that can be told in this format, and how to go about it.\n",
    "\n",
    "I think I just find that you're asking me to consider and understand too much data in many of the steps. It's hard for the brain to really process all of that."
   ]
  },
  {
   "cell_type": "markdown",
   "metadata": {},
   "source": [
    "### Resources\n",
    "\n"
   ]
  },
  {
   "cell_type": "code",
   "execution_count": null,
   "metadata": {},
   "outputs": [],
   "source": []
  }
 ],
 "metadata": {
  "kernelspec": {
   "display_name": "Python 3",
   "language": "python",
   "name": "python3"
  },
  "language_info": {
   "codemirror_mode": {
    "name": "ipython",
    "version": 3
   },
   "file_extension": ".py",
   "mimetype": "text/x-python",
   "name": "python",
   "nbconvert_exporter": "python",
   "pygments_lexer": "ipython3",
   "version": "3.6.4"
  }
 },
 "nbformat": 4,
 "nbformat_minor": 2
}
