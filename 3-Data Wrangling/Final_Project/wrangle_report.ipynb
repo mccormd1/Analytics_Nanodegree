{
 "cells": [
  {
   "cell_type": "markdown",
   "metadata": {},
   "source": [
    "Create a 300-600 word written report called wrangle_report.pdf or wrangle_report.html that briefly describes your wrangling efforts. This is to be framed as an internal document."
   ]
  },
  {
   "cell_type": "markdown",
   "metadata": {},
   "source": [
    "WeRateDogs twitter data was assembled from three sources:\n",
    "\n",
    "1. Enhanced twitter archive from local file `twitter_archive_enhanced.csv`\n",
    "2. Udacity hosted Neural Network image predictions file `image-predictions.tsv` requested programmatically from [this link.](https://d17h27t6h515a5.cloudfront.net/topher/2017/August/599fd2ad_image-predictions/image-predictions.tsv)\n",
    "3. additional tweet data (retweets, likes, etc.) requested from twitter API using Tweepy Library, compiled in local file `tweet_json.txt` with each tweet JSON data written to a newline."
   ]
  },
  {
   "cell_type": "markdown",
   "metadata": {},
   "source": [
    "After gathering, the data was assessed for quality across four dimensions: Completeness, Validity, Accuracy, and Consistency. "
   ]
  },
  {
   "cell_type": "code",
   "execution_count": null,
   "metadata": {},
   "outputs": [],
   "source": []
  }
 ],
 "metadata": {
  "kernelspec": {
   "display_name": "Python 3",
   "language": "python",
   "name": "python3"
  },
  "language_info": {
   "codemirror_mode": {
    "name": "ipython",
    "version": 3
   },
   "file_extension": ".py",
   "mimetype": "text/x-python",
   "name": "python",
   "nbconvert_exporter": "python",
   "pygments_lexer": "ipython3",
   "version": "3.6.4"
  }
 },
 "nbformat": 4,
 "nbformat_minor": 2
}
