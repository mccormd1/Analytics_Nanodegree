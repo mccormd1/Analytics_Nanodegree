{
 "cells": [
  {
   "cell_type": "markdown",
   "metadata": {},
   "source": [
    "# Dimensions of Data Quality\n",
    "#### By: Devin McCormack\n",
    "\n",
    "There is no consistent definition of these dimensions, but they can broadly be sorted into four buckets of decreasing order of severity:\n",
    "\n",
    "## 1. Completeness\n",
    "Data is complete if all essential variables are measured, and there are no missing/null values. Data can be incomplete but usable.\n",
    "\n",
    "Check if we have all the data we need/want. Essential data should be 100% complete.\n",
    "> ### Questions to ask:\n",
    "\n",
    "> - Do we have all the records that we should? \n",
    "> - Do we have missing records? \n",
    "> - Are there specific rows(observations), columns(variables), or cells(values) missing?\n",
    "\n",
    "> ### Examples:\n",
    "> - Important data columns missing\n",
    "> - Unequal number of observations across different sources for same observational unit\n",
    "> - NaNs in cells\n",
    "\n",
    "## 2. Validity\n",
    "Data is valid if if conforms to the syntax(format, type, range) of its definition.\n",
    "\n",
    "Check if the data makes sense. Special datatype functions require valid datatypes.\n",
    "> ### Questions to ask:\n",
    "> - Does the data conform to a defined schema (set of rules for the data)?\n",
    "> - Are variable data types consistent with the data values?\n",
    "> - Are there nonsense values for certain dimensions? \n",
    "> - Does the data conform to primary/foreign key constraints?\n",
    "\n",
    "> ### Examples:\n",
    "> - date stored as am object string (instead of datetime), zipcode stored as a float (instead of integer), assigned sex as an object string (instead of category)\n",
    "> - Negative height, zip codes with only 4 digits, names with digits in them\n",
    "> - mutiple rows for the same primary key\n",
    "\n",
    "## 3. Accuracy\n",
    "Data is accurate if it correctly describes the real world object or even being described.\n",
    "\n",
    "Check if the data is correct. Assessing accuracy may require specific domain knowledge.\n",
    "> ### Questions to ask:\n",
    "> - Were there any data entry errors?\n",
    "> - Even if valid, does it make sense?\n",
    "> - Do we have the means to check accuracy? - calculations or references?\n",
    "\n",
    "> ### Examples:\n",
    "> - Highly unlikely weight measurement (10 lbs for a full grown adult)\n",
    "> - Default or filler data (John Doe, 1234 Main Street)\n",
    "> - calculated variables do not match the variables that create it (bmi not consistent with height and weight measurements)\n",
    "\n",
    "## 4. Consistency\n",
    "Data is consistent when there is no difference when comparing two or more representations of a thing against a definition.\n",
    "\n",
    "Check if the data is coherent across the whole dataset. Important for aggregation.\n",
    "\n",
    "> ### Questions to ask:\n",
    "> - Are there multiple ways the dataset is representing a single thing?\n",
    "> - Do same values mean the same thing across a variable?\n",
    "\n",
    "> ### Examples:\n",
    "> - State names spelled fully for some observations, but abbreviations for others (Ohio and OH in same dataset)\n",
    "> - dates (birth date, visit date) encoded differently\n",
    "> - a patient_id is associated with the same name across multiple tables.\n",
    "\n",
    "\n"
   ]
  },
  {
   "cell_type": "markdown",
   "metadata": {},
   "source": [
    "definitions and organization inspired by DAMA UK Working Group “Data Quality Dimensions” White paper and Udacity"
   ]
  },
  {
   "cell_type": "code",
   "execution_count": null,
   "metadata": {},
   "outputs": [],
   "source": []
  }
 ],
 "metadata": {
  "kernelspec": {
   "display_name": "Python 3",
   "language": "python",
   "name": "python3"
  },
  "language_info": {
   "codemirror_mode": {
    "name": "ipython",
    "version": 3
   },
   "file_extension": ".py",
   "mimetype": "text/x-python",
   "name": "python",
   "nbconvert_exporter": "python",
   "pygments_lexer": "ipython3",
   "version": "3.6.4"
  }
 },
 "nbformat": 4,
 "nbformat_minor": 2
}
